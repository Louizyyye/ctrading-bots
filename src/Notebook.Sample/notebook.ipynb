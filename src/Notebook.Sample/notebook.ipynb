{
 "cells": [
  {
   "cell_type": "markdown",
   "metadata": {},
   "source": [
    "# OpenAPI.NET Notebook Sample\n",
    "\n",
    "In this sample we will use OpenAPI.NET package to access cTrader Open API, and show a trading account real time stats.\n",
    "\n",
    "Let's start by installing the Nuget package:"
   ]
  },
  {
   "cell_type": "code",
   "execution_count": null,
   "metadata": {
    "dotnet_interactive": {
     "language": "csharp"
    }
   },
   "outputs": [],
   "source": [
    "#r \"nuget: Spotware.OpenAPI.Net\""
   ]
  },
  {
   "cell_type": "markdown",
   "metadata": {},
   "source": [
    "Then we will add the OpenAPI.NET usings:"
   ]
  },
  {
   "cell_type": "code",
   "execution_count": null,
   "metadata": {
    "dotnet_interactive": {
     "language": "csharp"
    }
   },
   "outputs": [],
   "source": [
    "using OpenAPI.Net;\n",
    "using OpenAPI.Net.Auth;\n",
    "using OpenAPI.Net.Helpers;"
   ]
  },
  {
   "cell_type": "markdown",
   "metadata": {
    "dotnet_interactive": {
     "language": "csharp"
    }
   },
   "source": [
    "Please create a credentials.json file in current directory of notebook file and fill it with your Open API credentials:"
   ]
  },
  {
   "cell_type": "markdown",
   "metadata": {
    "dotnet_interactive": {
     "language": "csharp"
    }
   },
   "source": [
    "```json\n",
    "{\n",
    "  \"ClientId\": \"your app client id\",\n",
    "  \"Secret\": \"your app secret\",\n",
    "  \"HostType\": \"your account type (demo or live)\",\n",
    "  \"AccessToken\": \"your access token, create one by using your app playground on open API site\",\n",
    "  \"AccountId\": \"Your account ID as a number without quotes\"\n",
    "}\n",
    "```"
   ]
  },
  {
   "cell_type": "markdown",
   "metadata": {},
   "source": [
    "We will load your created credentials file:"
   ]
  },
  {
   "cell_type": "code",
   "execution_count": null,
   "metadata": {
    "dotnet_interactive": {
     "language": "csharp"
    }
   },
   "outputs": [],
   "source": [
    "using System.Text.Json;\n",
    "using System.Text.Json.Serialization;\n",
    "using System.IO;\n",
    "\n",
    "public record Credentials(string ClientId, string Secret, string HostType, string AccessToken, long AccountId);\n",
    "\n",
    "private async Task<Credentials> GetCredentials()\n",
    "{\n",
    "    using var stream = File.OpenRead(\"credentials.json\");\n",
    "    return  await JsonSerializer.DeserializeAsync<Credentials>(stream);\n",
    "}\n",
    "\n",
    "var credentials = await GetCredentials();\n",
    "\n",
    "Console.WriteLine(credentials);"
   ]
  },
  {
   "cell_type": "markdown",
   "metadata": {},
   "source": [
    "We got the API credentials, now lets create an OpenAPI.NET client, and authorize our app and account:"
   ]
  },
  {
   "cell_type": "code",
   "execution_count": null,
   "metadata": {
    "dotnet_interactive": {
     "language": "csharp"
    }
   },
   "outputs": [],
   "source": [
    "using System.Reactive.Linq;\n",
    "using Google.Protobuf;\n",
    "\n",
    "var host = credentials.HostType.Equals(\"demo\", StringComparison.OrdinalIgnoreCase) ? ApiInfo.DemoHost : ApiInfo.LiveHost;\n",
    "\n",
    "var client = new OpenClient(host, ApiInfo.Port, TimeSpan.FromSeconds(15));\n",
    "\n",
    "client.Where(iMessage => iMessage is not ProtoHeartbeatEvent).Subscribe(message => Console.WriteLine($\"Message Received: {message}\"), exception => Console.WriteLine($\"Exception: {exception}\"));\n",
    "\n",
    "private async void OnAppAuthorized(ProtoOAApplicationAuthRes response)\n",
    "{\n",
    "    var accountAuthReq = new ProtoOAAccountAuthReq\n",
    "    {\n",
    "        CtidTraderAccountId = credentials.AccountId,\n",
    "        AccessToken = credentials.AccessToken\n",
    "    };\n",
    "\n",
    "    client.OfType<ProtoOAAccountAuthRes>().Subscribe(OnAccountAuthRes);\n",
    "\n",
    "    await client.SendMessage(accountAuthReq, accountAuthReq.PayloadType);\n",
    "}\n",
    "\n",
    "\n",
    "private void OnAccountAuthRes(ProtoOAAccountAuthRes response)\n",
    "{\n",
    "    Console.WriteLine(\"OnAccountAuthRes\");\n",
    "}\n",
    "\n",
    "client.OfType<ProtoOAApplicationAuthRes>().Subscribe(OnAppAuthorized);\n",
    "\n",
    "await client.Connect();\n",
    "\n",
    "var applicationAuthReq = new ProtoOAApplicationAuthReq\n",
    "{\n",
    "    ClientId = credentials.ClientId,\n",
    "    ClientSecret = credentials.Secret,\n",
    "};\n",
    "\n",
    "await client.SendMessage(applicationAuthReq, applicationAuthReq.PayloadType);\n",
    "\n",
    "// We will wait 10 seconds to receive the responses\n",
    "await Task.Delay(10000);"
   ]
  }
 ],
 "metadata": {
  "kernelspec": {
   "display_name": ".NET (C#)",
   "language": "C#",
   "name": ".net-csharp"
  },
  "language_info": {
   "name": "C#"
  }
 },
 "nbformat": 4,
 "nbformat_minor": 2
}
